{
 "cells": [
  {
   "cell_type": "markdown",
   "metadata": {},
   "source": [
    "# Welcome to the final lecture: data visualization / Plotting\n",
    "\n",
    "Over the last few weeks, we've taken a real deep dive into the world of Python. Some chapters were probably harder than others, but if you made it this far, you can congratualte yourself on being persistent in your learnings! Chapeau! \n",
    "\n",
    "This lecture consists of two sections. Plotting and a section on how to continue; which we will mostly discuss during the public lecture. In this notebook, we start with plotting. Plotting is a common way to make data understable, as one picture obviously says more than a thousand words. Today's lecture will introduce you to plotting in python with Matplotlib, which is arguably the most popular graphing and data visualization library for Python. Matplotlib stands for Mathematical Plotting Library, suggesting that it a usefull tool for plotting numbers, which it is! \n",
    "\n",
    "Besides Matplotlib, there are many other libraries available to plot your data. Among them are Seaborn (based on Matplotlib, but slighlty more sleek and thus a tip if you want to present your data), geoplot (for plotting location data) and Bokeh (making web-ready graphs). We will not discuss these othere libraries, but I hope you understand that there are many other options available to plot data. If you google on plotting python examples, you'll meet some other libraries which you can obviously use. Do not limit yourself to matplotlib. It is good to stay loyal, but a little bit of cheating on your plotting won't hurt nobody.\n",
    "\n",
    "In order to plot, we need to get our data in the right structure first. Hence, last week when we learnt the inns-and-outs of pandas, we prepared data. This week, we will use some of the same data sources, prepare the data again (practise makes perfect) and then plot the data! \n",
    "\n",
    "However, as I said during the first lecture, these kind of notebooks are very usefull as they can be connected to dashboarding software, such as Tableau, PowerBI, Qlick and Cognos(?). You most probably want to work with visualizations in these dashboaring tools. Still, I do believe that it is valuable to understand how plotting works in Python, as it can help you better understand your data. \n",
    "\n",
    "\n",
    "## 11.0 Telling a story with data is complicated\n",
    "\n",
    "It is true that in this chapter, we will briefly discuss some possibilities of plotting data. Thruth to be told, I personally find plotting data very difficult. Not only because the possibilities are endless on a technical perspective, but also because you want to inform the reader in an efficient and clear way.\n",
    "\n",
    "Today, with ever growing amounts of data - and our newly learnt python skills - we would probably be able to get very clear presentations and ace every presentation with new insights using big data. However, having all the information in the world at our fingertips doesn’t make it easier to communicate: it makes it harder. The more information you’re dealing with, the more difficult it is to filter down to the most important bits. We often think we can clarify our powerpoints with clear graphs and stylish designs. But we've probably all been victem of bad slideshows and Infographics that fail to be informative and are only\n",
    "graphic in the same sense that violence can be graphic. Or the endless charts and tables in the national press that mislead and confuse us daily (Looking at you, Algemeen Dagblad).\n",
    "\n",
    "In school, we learn a lot about language and math. On the language side, we learn how to put words together into sentences and into stories. With math, we learn to make sense of numbers. But it’s rare that these two sides are paired: **no one teaches us how to tell stories with numbers**. This leaves us poorly prepared for an important task that is increasingly in demand.\n",
    "\n",
    "Therefore, I argue that **success in data visualization does not start with data visualization**, which may seem counterintuitive. Rather, before you begin down the path of creating a data visualization or communication, attention and time should be paid to understanding the context for the need to communicate.  Being able to visualize data and tell stories with it is key to turning it into information that can be used to drive better decision making.\n",
    "\n",
    "Unfortunately, I won't be able to teach you how to properly make visualizations. I personally suck at it, at best. I will however, teach you how you can make plots. Making *good* plots, is all up to you! And by good plots, I mean **plots that actually tell a story** and is not just a random pie-chart taking up the entire slide just to show us two percentages. \n",
    "\n",
    "\n",
    "When we actually have a plot, please don't forget that your plot should tell the story on it's own. So include a title, a legenda (if applicable), a data source (if required), as well as informing the reader on what they're seeing. Euros, views, apples. This makes all the difference!\n",
    "\n",
    "## 11.1 Importing libraries\n",
    "Now take a sip of your coffee and continue with importing the libraries. As with almost everything in Python, we first need to import our libraries, in this case matplotlib. We've done this before with pandas and numpy. Personally, I always import both libraries at the start of every document. You end up using them a lot. This time, we also import matplotlib, especially the pyplot variant. This import statement (stating that I had to import pyplot), was in the documentation. So don't worry. No one knows this by hard on the first run, but the documentation of the specific library is always there to help. Also, I personally always import libraries as a shortcut, so with the `as .... `, as i'm pretty lazy to constantly type pandas or numpy but rather use pd or np. Now, for matplotlib, people often do an `inline` argument when working in jupyter. This only works when we're working in Jupyter notebooks and prevents our plots from becoming to big for our screen, as it will render the plots 'inline'. Using this command once is best-practise and advised by almost everybody on the world wide web. Hence, I'm doing the same.  Again, this was all in the documentation; simply copy-paste. I suggest you do the same (using this notebook as source, or the official documentation)."
   ]
  },
  {
   "cell_type": "code",
   "execution_count": null,
   "metadata": {},
   "outputs": [],
   "source": [
    "import pandas as pd\n",
    "import numpy as np\n",
    "import matplotlib.pyplot as plt\n",
    "%matplotlib inline"
   ]
  },
  {
   "cell_type": "markdown",
   "metadata": {},
   "source": [
    "## 10.2 Making our first line plot\n",
    "Line graphs are used to track changes over short and long periods of time. Line graphs can also be used to compare changes over the same period of time for more than one group. We often see line charts to display our annual revenue and use second line to display last years revenue. They are usefull to quickly analyze our data for trends, peaks/spikes and valleys/downs. For example, when we would plot the revenue of our FOX and Reizen collegues, we would clearly see the Corona crisis as a downward trend. \n",
    "\n",
    "Let's see this in pracise with the number of ANWB members! We have little dataset containing the last 10 years of total members. We could go throught these numbers of the last 10 years pretty easy to validate if we had any spikes. However, what if our data set was 100 years long? Plotting would be very efficient in that case!"
   ]
  },
  {
   "cell_type": "code",
   "execution_count": null,
   "metadata": {},
   "outputs": [],
   "source": [
    "data = pd.read_csv('leden_per_jaar.csv', sep = ';')\n",
    "\n",
    "data"
   ]
  },
  {
   "cell_type": "markdown",
   "metadata": {},
   "source": [
    "Now that we have our data, we can start plotting. In our case, we want to work with a line plot. In matplotlib, we can make our plot as follows: `plt.plot(x-axis, y-axis)`. Additionally, we can give our plot additional parameters, such as the line style and colors, but more on that later. \n",
    "\n",
    "\n",
    "As an x-axis, we feed our plot a column from our dataframe. As with pandas, we can select a single column from a dataframe using `data['column_name']`. In the code section below, we feed our plot two columns, and you'll see that it perfectly makes your plot, just like the one above! "
   ]
  },
  {
   "cell_type": "code",
   "execution_count": null,
   "metadata": {},
   "outputs": [],
   "source": [
    "plt.plot(data['Jaar'], data['Leden'])"
   ]
  },
  {
   "cell_type": "markdown",
   "metadata": {},
   "source": [
    "That looks pretty usefull! We can clearly see the impact of the current situation on the number of members (please be aware, this is fake/dummy data). However, let's give our data some more parameters. For example, we can use the parameter `color = ....` to change our line color, `linestyle = '.....'` to change the line, add markers and many more options. All options are available here https://matplotlib.org/2.1.2/api/_as_gen/matplotlib.pyplot.plot.html. \n",
    "\n",
    "In the example below, i've added some common parameters. Hopefully you can use some of them!\n",
    "\n",
    "With just a single line of code, we've visualized our data! Now, if we change our data (because next years figures are available), all we need to do is upload the new data as a Dataframe in *data* . Just this one line of code will then again spit out a plot in which we can see how the latest data affects our results."
   ]
  },
  {
   "cell_type": "code",
   "execution_count": null,
   "metadata": {},
   "outputs": [],
   "source": [
    "plt.plot(data['Jaar'], data['Leden'], color='green', linestyle='dashed', marker='.', markerfacecolor='blue', markersize=12)"
   ]
  },
  {
   "cell_type": "markdown",
   "metadata": {},
   "source": [
    "But we aren't done yet! We still don't know what this data tells us. To add titles and labels to the axis, we simply inform `plt.` what we want as title before rendering the figure. Be aware that you should add these titles in the **same code block**, otherwise matplotlib will not understand where to add the titles to. There is still a lot more that we can change using the `plt.` statement, but lets not go too deep. More detail are available on the Matplotlib website. Personally, I'm no hero with plotting, as there are sooo many option. I always do a quick google search on what I want. Somehow, google always has the answer within 30 seconds; so there is no need to study everything and learn everything by hard. Forget how to add a title? Google: Matplotlib add title. first 5 options all give the correct answer. Haven't checked any further. \n",
    "\n",
    "Hopefully this plot with titles makes more sense. Feel free to play around with it! "
   ]
  },
  {
   "cell_type": "code",
   "execution_count": null,
   "metadata": {},
   "outputs": [],
   "source": [
    "# Same line of code as above\n",
    "plt.plot(data['Jaar'], data['Leden'], color='red', linestyle='dashed', marker='.', markerfacecolor='yellow', markersize=12)\n",
    "\n",
    "# but now lets add some additional titles. Make sure they are in the same codeblock.\n",
    "plt.title('Leden per jaar')\n",
    "plt.ylabel('Aantal leden in miljoenen')\n",
    "plt.xlabel('Jaar')\n"
   ]
  },
  {
   "cell_type": "markdown",
   "metadata": {},
   "source": [
    "## 10.3 Making our first scatter plot! "
   ]
  },
  {
   "cell_type": "markdown",
   "metadata": {},
   "source": [
    "Good, know that we know how to do a line plot, lets see how this differs from making a scatter. A scatter plot  uses dots to represent values for two different numeric variables. The position of each dot on the horizontal and vertical axis indicates values for an individual data point. Scatter plots are used to observe relationships between variables. We will use the car data from the USA again: let's import `USA_cars_datasets.csv` in pandas and only select the price and mileage. Using these, we hope to display some sort of relation between the mileage and the price. "
   ]
  },
  {
   "cell_type": "code",
   "execution_count": null,
   "metadata": {},
   "outputs": [],
   "source": [
    "cars = pd.read_csv('USA_cars_datasets.csv')\n",
    "cars = cars[['price','mileage']]\n",
    "cars.head()"
   ]
  },
  {
   "cell_type": "markdown",
   "metadata": {},
   "source": [
    "Let's see what happens if we plot the price and mileage, as a scatter/dot plot. In this case, we hope to see a relation between mileage and price.\n",
    "\n",
    "Plotting a scatter plot is easy and very similair to the line plot. We can create a simple scatter by `plt.scatter(x-axis, y-axis)`. Obviously, this works best if we're working with numbers. The data inputs can be of various sources. In the example below, we use the pandas select using the squared brackets to directly input a column, but we can also add a list with numbers there, or another variable with data.\n",
    "\n",
    "Just as with the line plot,  we can select a single column from a dataframe using `data['column_name']`. "
   ]
  },
  {
   "cell_type": "code",
   "execution_count": null,
   "metadata": {},
   "outputs": [],
   "source": [
    "plt.scatter(cars['mileage'], cars['price'])"
   ]
  },
  {
   "cell_type": "markdown",
   "metadata": {},
   "source": [
    "Hmmm, this plot probably isn't the most usefull. However, we can clearly that there is a relation. On the Y axis, we see that some cars have extremely high mileage. However, all cars with high mileage are also on the left side of the X axis, and thus are cheaper. This relation makes sense. Cars with high mileage are worth less, and the most expensive cars in the data set are on the low end of th mileage. \n",
    "\n",
    "However, let's see if we can tidy this plot a little bit. This all comes down to personal preferences and visibility. The options are endless! Using the code below, we change the color to our company color and change the size of the dots. Also, I changed the dots to something else. Following a google search on 'matplotlib markers', I found this list: https://matplotlib.org/3.2.1/api/markers_api.html giving us cool alternatives."
   ]
  },
  {
   "cell_type": "code",
   "execution_count": null,
   "metadata": {},
   "outputs": [],
   "source": [
    "plt.scatter(cars['mileage'], cars['price'], color= \"yellow\",  \n",
    "            marker= \"*\", s=50) "
   ]
  },
  {
   "cell_type": "markdown",
   "metadata": {},
   "source": [
    "In the basis, this is how we make a scatter plot! Pretty easy he! Just as with the line plot, we need two columns from our dataframe and feed this to our plt commands. Again, the options are endless and there is no way that we can go full in depth into this, during this course! \n",
    "\n",
    "Also, use this to your advantage, but please don't forget that we can plot in many other tools! The previously mentioned dashboarding tools are there for a reason, and are a very efficient way of spreading the story you're telling with the data!\n",
    "\n"
   ]
  },
  {
   "cell_type": "markdown",
   "metadata": {},
   "source": [
    "## 10.3 Making our data pretty, bigger and adding a regression line to our scatterplot * \n",
    "\n",
    "Hmmm, maybe this still isn't very attractive to look at. Let's see if we can change the size, the color and add some titles. Besides 'calling the plot' using plt.scatter, we can also change some variables of our plot specific for the figure it renders. We do this by adding `plt.figure` to our notebook. Here we can change the size for example using `plt.figure(figsize(x,y))`.\n",
    "\n",
    "To add titles and labels to the axis, we simply inform `plt.` what we want as title before rendering the figure. There is still a lot more that we can change using the `plt.` statement, but lets not go too deep. More detail are available on the Matplotlib website. Personally, I'm no hero with plotting, as there are sooo many option. I always do a quick google search on what I want. Somehow, google always has the answer within 30 seconds; so there is no need to study everything and learn everything by hard. Forget how to add a title? Google: Matplotlib add title. first 5 options all give the correct answer. Haven't checked any further. \n",
    "\n",
    "For example, I wasn't too happy about how pyplot set our car pricing. Apparently, there is a way to change the axes with a limit. The little numbers on the axis are called Ticks, and we can change them manually. However, we won't do that today and only rotate them slighlty. Feel free to play around with the color, markers and size (s). "
   ]
  },
  {
   "cell_type": "code",
   "execution_count": null,
   "metadata": {},
   "outputs": [],
   "source": [
    "# changing the figure output size\n",
    "plt.figure(figsize=(20,15))\n",
    "\n",
    "# default plot command for a scatter plot with some additional parameters\n",
    "plt.scatter(cars['mileage'], cars['price'], label= \"cars\", color= \"darkblue\",  \n",
    "            marker= \"*\", s=25) \n",
    "\n",
    "# Adding titles and labels\n",
    "plt.title('Mijn spannende scatterplot met sterretjes!')\n",
    "plt.ylabel('Price in $')\n",
    "plt.xlabel('Mileage')\n",
    "\n",
    "\n",
    "# changing the ticks\n",
    "plt.xticks(rotation=45)"
   ]
  },
  {
   "cell_type": "markdown",
   "metadata": {},
   "source": [
    "### Adding the regression line\n",
    "To show us the actual relationship between the two variables, a regressionline can help us better understand the relation. To do so, we need numpy to do some of the math for us. Numpy has a build-in function to add a polyfit line to our data. The code block below includes everything we need for our new graph, but is based on the exact same information as above.\n"
   ]
  },
  {
   "cell_type": "code",
   "execution_count": null,
   "metadata": {},
   "outputs": [],
   "source": [
    "from numpy.polynomial.polynomial import polyfit\n",
    "\n",
    "b, m = polyfit(cars['mileage'], cars['price'], 1)\n",
    "\n",
    "\n",
    "plt.title('Mijn spannende scatterplot met sterretjes en regression!')\n",
    "plt.xlabel('Price in $')\n",
    "plt.ylabel('Mileage')\n",
    "\n",
    "plt.xticks(rotation=45)\n",
    "\n",
    "\n",
    "plt.plot(cars['mileage'], cars['price'], '.')\n",
    "plt.plot(cars['mileage'], b + m * cars['mileage'], '-')\n",
    "plt.ylim([0,100000])"
   ]
  },
  {
   "cell_type": "markdown",
   "metadata": {},
   "source": [
    "## 10.4 Barplot\n",
    "The final plot that is commonly seen is the bar plot. Again, the options here are endless but in the beginning, we make one using a very similair command to the line and scatter plot. This time, our line of code is as follows: `plt.barh(x-axis, y-axis)`. Just like in the other examples, we can change a lot of parameters by adding them into that line of code. The following code line contains just the basic barplot. \n",
    "\n",
    "I hope you see that we just changing the plt.barh() to plt.scatter() or plt.plot() we can quickly change our type of plot. The way we insert data in the plot is the same; some parameters differ though."
   ]
  },
  {
   "cell_type": "code",
   "execution_count": null,
   "metadata": {},
   "outputs": [],
   "source": [
    "plt.barh(data['Jaar'], data['Leden'])"
   ]
  },
  {
   "cell_type": "markdown",
   "metadata": {},
   "source": [
    "## 10.5 Using Statistics in Python *\n",
    "\n",
    "There are many ways to do stats using data. If you want to perform statistical analysis (which is always good, and I highly recommend you start doing so if you haven't been doing them), please checkout SciPi. We can do so in many tools, but often not reproducable. Additionally, when it comes to building complex analysis pipelines that mix statistics with e.g. image analysis, text mining, or control of a physical experiment, the richness of Python is an invaluable asset. If you want to know more, please checkout  https://scipy-lectures.org/"
   ]
  },
  {
   "cell_type": "markdown",
   "metadata": {},
   "source": [
    "## 10.6 Making a quick machine learning model *\n",
    "\n",
    "Even though we we should be working on plots, I do believe that we should quickly touch machine learning. We've worked with our members per year data during this lecture. But, how many members will we have next year? During the first lecture, I already stated that we can make a machine learning model using a few lines of code. Let's do so!\n",
    "\n",
    "We will make a predictive regression analysis using Scikit-learn. Scikit learn is the biggest machine learning library out there (refered to as sklearn). The example below was copied from https://realpython.com/linear-regression-in-python/ and slighly adapted to us our data source. \n",
    "\n",
    "Obviously, this is by noooooo means a solid prediction and there is a reason ANWB has a data science team that works on perfecting those kind of models. Our model now gives us return values of the comming years. Above all, we used dummy data, so we cannot validate our results, but in essence have we just copied a simple machine learning model from the internet, and adapted this to our data. I cannot stress enough that you should NOT use this for professional purposes as the data it built upon is dummy data. I just hope you understand that over the past few weeks, we've learnt to take examples and adapt them to our needs --> which we can then use for professional purposes :)"
   ]
  },
  {
   "cell_type": "code",
   "execution_count": null,
   "metadata": {},
   "outputs": [],
   "source": [
    "from sklearn.linear_model import LinearRegression\n",
    "\n",
    "jaar_list = data[\"Jaar\"].tolist()\n",
    "members = data['Leden'].to_list()\n",
    "\n",
    "x = np.array(jaar_list).reshape(-1, 1)\n",
    "y = np.array(members)\n",
    "\n",
    "model = LinearRegression().fit(x, y)\n",
    "\n",
    "y_pred = model.predict(x)\n",
    "print('predicted response:', y_pred, sep='\\n')"
   ]
  },
  {
   "cell_type": "markdown",
   "metadata": {},
   "source": [
    "## 10.7 Thank you and how to continue\n",
    "\n",
    "***Claps in hands!*** Congratulations on making it to the end of the final lecture. Over the past few weeks, you've gained a proper understanding of Python and are probably able to do some small tasks yourself in Python, especially using pandas. Don't forget that everyday is a possibility to learn something new, and although youve done reaally great, never stop amazing yourself! Be it with the possibilities in Python, or something else; keep wandering and exploring! \n",
    "\n",
    "If you want to continue, there are some ways. Our collegues at ACE (Data Scientists) will soon create lecture on machine learning. for some, this might be too soon and too much, but for others it might be another good deep dive. \n",
    "Additionally, DataCamp.com has many paid courses available that can really help you progress into the world of data analysis. Maybe discuss this with your supervizor, as annual subscriptions are relatively expensive. \n",
    "\n",
    "If you really want to go bad0ass in programming and beyond the scope of data. For example, if you want to use your newly learnt skills to use in web dev, app dev, and many more, go check out freecodecamp.org. They offer free courses on python, but are less structured then datacamp and not specifically focussed on data. \n",
    "\n",
    "Now, this Jupyter server we've been using won't stay online for ever as Microsoft currently empties my Credit Card. Therefor, I suggest you download the notebooks and store them locally. You can then run them in Anaconda Navigator --> Jupyter notebooks. This works the same as this webserver, but uses your local machine power and not that of a microsoft server. If you need help setting this up, let me know! \n",
    "\n",
    "Don't forget that if your running Anaconda, you need to install libraries in Anaconda too. This is easy and straight forward, but often forgotten. \n",
    "\n",
    "I would like to thank you for your time and continuous effort! I realize that I made the chapters in week 2 too hard and challanging, for which I'm greatly sorry. Hopefully, this didn't ruin your entire experience. I do really hope that you can now use python to set-up a notebook yourself, program your monthly returning tasks, and simpy run them every month instead of spending days on it every time! \n",
    "\n",
    "Thank you again and I am looking forward to seeing you do well on the exam and chatting with you on the borrel (if anytime soon). Thanks! "
   ]
  },
  {
   "cell_type": "markdown",
   "metadata": {},
   "source": [
    "## Excersise 1\n",
    "Can you open the iris.txt dataset and make a scatter plot of red T's showing us the relation between the Sepal length and Petal length? Don't forget to add a title."
   ]
  },
  {
   "cell_type": "code",
   "execution_count": null,
   "metadata": {},
   "outputs": [],
   "source": []
  },
  {
   "cell_type": "markdown",
   "metadata": {},
   "source": [
    "## Excersise 2 *\n",
    "Can you create a usefull plot based on the car sales data? Potentially after some data manipulation using pandas. Don't be afraid to show a story with your plot! :)\n"
   ]
  },
  {
   "cell_type": "code",
   "execution_count": null,
   "metadata": {},
   "outputs": [],
   "source": []
  },
  {
   "cell_type": "markdown",
   "metadata": {},
   "source": [
    "## Excersise 3 *\n",
    "\n",
    "Download Anaconda studio, install the most popular libraries and run Jupyter Notebook. Find yourself a analytic job (or excel-klus) that you have worked on recently and try to do this using pandas in your local Jupyter! "
   ]
  },
  {
   "cell_type": "code",
   "execution_count": null,
   "metadata": {},
   "outputs": [],
   "source": []
  }
 ],
 "metadata": {
  "kernelspec": {
   "display_name": "Python 3",
   "language": "python",
   "name": "python3"
  },
  "language_info": {
   "codemirror_mode": {
    "name": "ipython",
    "version": 3
   },
   "file_extension": ".py",
   "mimetype": "text/x-python",
   "name": "python",
   "nbconvert_exporter": "python",
   "pygments_lexer": "ipython3",
   "version": "3.7.6"
  }
 },
 "nbformat": 4,
 "nbformat_minor": 4
}
